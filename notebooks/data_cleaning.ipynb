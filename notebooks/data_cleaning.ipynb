{
 "cells": [
  {
   "cell_type": "code",
   "execution_count": 1,
   "metadata": {},
   "outputs": [],
   "source": [
    "import os\n",
    "import sys\n",
    "import pandas as pd\n",
    "import numpy as np\n",
    "from sklearn.base import BaseEstimator, TransformerMixin\n",
    "from sklearn.pipeline import Pipeline\n",
    "from sklearn.preprocessing import FunctionTransformer"
   ]
  },
  {
   "cell_type": "code",
   "execution_count": 2,
   "metadata": {},
   "outputs": [],
   "source": [
    "# setting path to folders\n",
    "\n",
    "parent_dir = os.path.abspath(os.path.join(os.getcwd(), os.pardir))\n",
    "scripts_dir = parent_dir+\"/scripts\"\n",
    "data_directory = parent_dir+\"/data\"\n",
    "\n",
    "sys.path.insert(1, scripts_dir)"
   ]
  },
  {
   "cell_type": "code",
   "execution_count": 3,
   "metadata": {},
   "outputs": [],
   "source": [
    "# loading script\n",
    "\n",
    "from data_summarizing_functions import DataSummarizer\n",
    "from dashboard_viz import VizManager\n",
    "from processing_functions import DataProcessor\n",
    "\n",
    "sumar = DataSummarizer()\n",
    "viz = VizManager()\n",
    "DP = DataProcessor()"
   ]
  },
  {
   "cell_type": "code",
   "execution_count": 4,
   "metadata": {},
   "outputs": [
    {
     "name": "stdout",
     "output_type": "stream",
     "text": [
      "data loaded successfully!\n",
      "the data has 8077 rows, and 9 columns\n",
      "\n",
      " Dataset information \n",
      "\n",
      "<class 'pandas.core.frame.DataFrame'>\n",
      "RangeIndex: 8077 entries, 0 to 8076\n",
      "Data columns (total 9 columns):\n",
      " #   Column       Non-Null Count  Dtype \n",
      "---  ------       --------------  ----- \n",
      " 0   auction_id   8077 non-null   object\n",
      " 1   experiment   8077 non-null   object\n",
      " 2   date         8077 non-null   object\n",
      " 3   hour         8077 non-null   int64 \n",
      " 4   device_make  8077 non-null   object\n",
      " 5   platform_os  8077 non-null   int64 \n",
      " 6   browser      8077 non-null   object\n",
      " 7   yes          8077 non-null   int64 \n",
      " 8   no           8077 non-null   int64 \n",
      "dtypes: int64(4), object(5)\n",
      "memory usage: 568.0+ KB\n",
      "None\n",
      "Missing values:  6834\n",
      "Usable rows:  1243\n"
     ]
    }
   ],
   "source": [
    "\n",
    "# data loading and cleaning pipeline\n",
    "pipe = Pipeline(\n",
    "    steps=[\n",
    "        (\"load the data\", FunctionTransformer(DP.load_data)),\n",
    "        (\"observe the data\", FunctionTransformer(DP.show_info)),\n",
    "        (\"clean the data\", FunctionTransformer(DP.clean_missing))     \n",
    "        ])\n",
    "\n",
    "clean_df = pipe.fit_transform((data_directory))"
   ]
  },
  {
   "cell_type": "code",
   "execution_count": 5,
   "metadata": {},
   "outputs": [
    {
     "ename": "NameError",
     "evalue": "name 'data_dir' is not defined",
     "output_type": "error",
     "traceback": [
      "\u001b[1;31m---------------------------------------------------------------------------\u001b[0m",
      "\u001b[1;31mNameError\u001b[0m                                 Traceback (most recent call last)",
      "\u001b[1;32mc:\\Users\\IRONMAN\\10\\SmartAd_service_analysis\\notebooks\\data_cleaning.ipynb Cell 5'\u001b[0m in \u001b[0;36m<cell line: 3>\u001b[1;34m()\u001b[0m\n\u001b[0;32m      <a href='vscode-notebook-cell:/c%3A/Users/IRONMAN/10/SmartAd_service_analysis/notebooks/data_cleaning.ipynb#ch0000008?line=0'>1</a>\u001b[0m \u001b[39m# saving cleaned data\u001b[39;00m\n\u001b[1;32m----> <a href='vscode-notebook-cell:/c%3A/Users/IRONMAN/10/SmartAd_service_analysis/notebooks/data_cleaning.ipynb#ch0000008?line=2'>3</a>\u001b[0m clean_df\u001b[39m.\u001b[39mto_csv(data_dir\u001b[39m+\u001b[39m\u001b[39m\"\u001b[39m\u001b[39m/SmartAd_clean_data.csv\u001b[39m\u001b[39m\"\u001b[39m, index\u001b[39m=\u001b[39m\u001b[39mFalse\u001b[39;00m)\n",
      "\u001b[1;31mNameError\u001b[0m: name 'data_dir' is not defined"
     ]
    }
   ],
   "source": [
    "# saving cleaned data\n",
    "\n",
    "clean_df.to_csv(data_directory+\"/SmartAd_clean_data.csv\", index=False)"
   ]
  },
  {
   "cell_type": "code",
   "execution_count": null,
   "metadata": {},
   "outputs": [],
   "source": []
  }
 ],
 "metadata": {
  "interpreter": {
   "hash": "2b997b5b8794c030e25a28be498e8226ee8897df85ede9190db777bdc9cc75be"
  },
  "kernelspec": {
   "display_name": "Python 3.9.7 ('base')",
   "language": "python",
   "name": "python3"
  },
  "language_info": {
   "codemirror_mode": {
    "name": "ipython",
    "version": 3
   },
   "file_extension": ".py",
   "mimetype": "text/x-python",
   "name": "python",
   "nbconvert_exporter": "python",
   "pygments_lexer": "ipython3",
   "version": "3.9.7"
  },
  "orig_nbformat": 4
 },
 "nbformat": 4,
 "nbformat_minor": 2
}
