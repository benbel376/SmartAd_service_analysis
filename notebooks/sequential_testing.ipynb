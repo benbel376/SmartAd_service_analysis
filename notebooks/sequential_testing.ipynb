{
  "cells": [
    {
      "cell_type": "markdown",
      "metadata": {
        "id": "iftqV_euXReL"
      },
      "source": [
        "### Write a function to feach data."
      ]
    },
    {
      "cell_type": "code",
      "execution_count": 1,
      "metadata": {
        "id": "A-uNOBuFbRdv"
      },
      "outputs": [],
      "source": [
        "import os\n",
        "import sys\n",
        "import pandas as pd\n",
        "import numpy as np\n",
        "import warnings \n",
        "import scipy.stats as scs\n",
        "import matplotlib.pyplot as plt\n",
        "from sklearn.base import BaseEstimator, TransformerMixin\n",
        "from sklearn.pipeline import Pipeline\n",
        "from sklearn.preprocessing import FunctionTransformer"
      ]
    },
    {
      "cell_type": "code",
      "execution_count": null,
      "metadata": {
        "colab": {
          "base_uri": "https://localhost:8080/",
          "height": 214
        },
        "id": "z3saJEgAbThr",
        "outputId": "8062db23-414d-4430-853c-607e23ef1248"
      },
      "outputs": [],
      "source": [
        "# Suppressing warning messages\n",
        "\n",
        "warnings.filterwarnings('ignore')"
      ]
    },
    {
      "cell_type": "code",
      "execution_count": null,
      "metadata": {
        "id": "HdBaAyNybYwW"
      },
      "outputs": [],
      "source": [
        "# setting path to folders\n",
        "\n",
        "parent_dir = os.path.abspath(os.path.join(os.getcwd(), os.pardir))\n",
        "scripts_dir = parent_dir+\"/scripts\"\n",
        "data_dir = parent_dir+\"/data\"\n",
        "\n",
        "sys.path.insert(1, scripts_dir)"
      ]
    },
    {
      "cell_type": "code",
      "execution_count": null,
      "metadata": {},
      "outputs": [],
      "source": [
        "# loading script\n",
        "\n",
        "from data_summarizing_functions import DataSummarizer\n",
        "from processing_functions import ConditionalSPRT\n",
        "from dashboard_viz import VizManager\n",
        "from processing_functions import DataProcessor\n",
        "\n",
        "sumar = DataSummarizer()\n",
        "viz = VizManager()\n",
        "DP = DataProcessor()"
      ]
    },
    {
      "cell_type": "code",
      "execution_count": null,
      "metadata": {
        "colab": {
          "base_uri": "https://localhost:8080/",
          "height": 204
        },
        "id": "-FE3ou80b97z",
        "outputId": "ad3022ad-99b7-487d-98f4-61649d51ebbd"
      },
      "outputs": [],
      "source": [
        "# loading data\n",
        "\n",
        "original_df = pd.read_csv(data_dir+\"/SmartAd_clean_data.csv\")\n",
        "original_df.head()"
      ]
    },
    {
      "cell_type": "code",
      "execution_count": null,
      "metadata": {
        "id": "q4In81HzZyiQ"
      },
      "outputs": [],
      "source": [
        "alpha = 0.5\n",
        "beta = 0.10\n",
        "odd_ratio = 1.01\n",
        "c_sprt = ConditionalSPRT()\n",
        "pipe = Pipeline(\n",
        "    steps=[\n",
        "        (\"use_custome_cleaner\", FunctionTransformer(DP.clean_missing)),\n",
        "        (\"transform data\", FunctionTransformer(DP.transform_data)),\n",
        "        (\"ab testing\", FunctionTransformer(c_sprt.conditionalSPRT, \n",
        "            kw_args={\"t1\": odd_ratio, \"alpha\": alpha, \"beta\": beta})),      \n",
        "        ])\n",
        "res = pipe.fit_transform(original_df)"
      ]
    },
    {
      "cell_type": "code",
      "execution_count": null,
      "metadata": {
        "id": "JIOGgResa5B-"
      },
      "outputs": [],
      "source": [
        "print(c_sprt.get_output(res))"
      ]
    },
    {
      "cell_type": "code",
      "execution_count": null,
      "metadata": {},
      "outputs": [],
      "source": [
        "c_sprt.plot_output(res)"
      ]
    }
  ],
  "metadata": {
    "colab": {
      "collapsed_sections": [],
      "name": "sequential_testing.ipynb",
      "provenance": []
    },
    "interpreter": {
      "hash": "2b997b5b8794c030e25a28be498e8226ee8897df85ede9190db777bdc9cc75be"
    },
    "kernelspec": {
      "display_name": "Python 3.9.7 ('base')",
      "language": "python",
      "name": "python3"
    },
    "language_info": {
      "codemirror_mode": {
        "name": "ipython",
        "version": 3
      },
      "file_extension": ".py",
      "mimetype": "text/x-python",
      "name": "python",
      "nbconvert_exporter": "python",
      "pygments_lexer": "ipython3",
      "version": "3.9.7"
    }
  },
  "nbformat": 4,
  "nbformat_minor": 0
}
